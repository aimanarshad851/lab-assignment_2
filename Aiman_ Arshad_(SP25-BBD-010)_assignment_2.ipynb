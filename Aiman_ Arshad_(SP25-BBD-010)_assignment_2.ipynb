{
 "cells": [
  {
   "cell_type": "code",
   "execution_count": 33,
   "id": "9b82303f-2274-42b3-a27c-429491967fb6",
   "metadata": {},
   "outputs": [
    {
     "name": "stdout",
     "output_type": "stream",
     "text": [
      "The number is zero\n"
     ]
    }
   ],
   "source": [
    "#Q1  \n",
    "num=0\n",
    "if num > 0:\n",
    "    print(\"The number is positive\")\n",
    "elif num < 0:\n",
    "    print(\"The number is negative\")\n",
    "else:\n",
    "    print(\"The number is zero\")\n"
   ]
  },
  {
   "cell_type": "code",
   "execution_count": 34,
   "id": "0721bb75-162e-44a7-9fa6-8a411dc08733",
   "metadata": {},
   "outputs": [
    {
     "name": "stdout",
     "output_type": "stream",
     "text": [
      "90 is not a leap year\n"
     ]
    }
   ],
   "source": [
    "#Q2\n",
    "year=90\n",
    "if year%400==0:\n",
    "    print(f\"{year} is a leap year\")\n",
    "else:\n",
    "    print(f\"{year} is not a leap year\")\n",
    "    "
   ]
  },
  {
   "cell_type": "code",
   "execution_count": 4,
   "id": "1125910d-5ad8-4e7d-8999-aff6b4c0fd4e",
   "metadata": {},
   "outputs": [
    {
     "name": "stdin",
     "output_type": "stream",
     "text": [
      "Enter first number:  9\n",
      "Enter operator (+, -, *, /):  *\n",
      "Enter second number:  90\n"
     ]
    },
    {
     "name": "stdout",
     "output_type": "stream",
     "text": [
      "Result: 810.0\n"
     ]
    }
   ],
   "source": [
    "#Q3\n",
    "num1 = float(input(\"Enter first number: \"))\n",
    "op = input(\"Enter operator (+, -, *, /): \")\n",
    "num2 = float(input(\"Enter second number: \"))\n",
    "\n",
    "if op == \"+\":\n",
    "    print(\"Result:\", num1 + num2)\n",
    "elif op == \"-\":\n",
    "    print(\"Result:\", num1 - num2)\n",
    "elif op == \"*\":\n",
    "    print(\"Result:\", num1 * num2)\n",
    "elif op == \"/\":\n",
    "    if num2 != 0:\n",
    "        print(\"Result:\", num1 / num2)\n",
    "    else:\n",
    "        print(\"Error: Cannot divide by zero\")\n",
    "else:\n",
    "    print(\"Error: Invalid operator\")"
   ]
  },
  {
   "cell_type": "code",
   "execution_count": 5,
   "id": "95e76e53-ca30-4fdc-ad3b-b20914252da9",
   "metadata": {},
   "outputs": [
    {
     "name": "stdin",
     "output_type": "stream",
     "text": [
      "Enter student marks:  70\n"
     ]
    },
    {
     "name": "stdout",
     "output_type": "stream",
     "text": [
      "Grade: B\n"
     ]
    }
   ],
   "source": [
    "#Q4\n",
    "marks = float(input(\"Enter student marks: \"))\n",
    "\n",
    "if marks >= 85:\n",
    "    print(\"Grade: A\")\n",
    "elif marks >= 70:\n",
    "    print(\"Grade: B\")\n",
    "elif marks >= 50:\n",
    "    print(\"Grade: C\")\n",
    "else:\n",
    "    print(\"Grade: F\")\n"
   ]
  },
  {
   "cell_type": "code",
   "execution_count": 6,
   "id": "b1146b34-37b3-44ef-9543-45ed64272aa8",
   "metadata": {},
   "outputs": [
    {
     "name": "stdin",
     "output_type": "stream",
     "text": [
      "Enter your age:  56\n",
      "Enter your income:  450\n"
     ]
    },
    {
     "name": "stdout",
     "output_type": "stream",
     "text": [
      "Not eligible.\n"
     ]
    }
   ],
   "source": [
    "#Q5\n",
    "age = int(input(\"Enter your age: \"))\n",
    "income = float(input(\"Enter your income: \"))\n",
    "\n",
    "if age >= 21 and income > 25000:\n",
    "    print(\"Eligible for membership.\")\n",
    "else:\n",
    "    print(\"Not eligible.\")"
   ]
  },
  {
   "cell_type": "code",
   "execution_count": 7,
   "id": "1d839f36-5c5d-42a0-a184-55e406cd900d",
   "metadata": {},
   "outputs": [
    {
     "name": "stdin",
     "output_type": "stream",
     "text": [
      "Enter a number:  80\n"
     ]
    },
    {
     "name": "stdout",
     "output_type": "stream",
     "text": [
      "Buzz\n"
     ]
    }
   ],
   "source": [
    "#Q6\n",
    "number = int(input(\"Enter a number: \"))\n",
    "\n",
    "if number % 3 == 0 and number % 5 == 0:\n",
    "    print(\"FizzBuzz\")\n",
    "elif number % 3 == 0:\n",
    "    print(\"Fizz\")\n",
    "elif number % 5 == 0:\n",
    "    print(\"Buzz\")\n",
    "else:\n",
    "    print(number)"
   ]
  },
  {
   "cell_type": "code",
   "execution_count": 8,
   "id": "1be89129-3f45-4855-8e52-a69e6fb41e9c",
   "metadata": {},
   "outputs": [
    {
     "name": "stdin",
     "output_type": "stream",
     "text": [
      "Enter a single character:  5\n"
     ]
    },
    {
     "name": "stdout",
     "output_type": "stream",
     "text": [
      "Digit\n"
     ]
    }
   ],
   "source": [
    "#Q7\n",
    "\n",
    "char = input(\"Enter a single character: \")\n",
    "\n",
    "if len(char) != 1:\n",
    "    print(\"Please enter exactly one character.\")\n",
    "elif char.lower() in 'aeiou':\n",
    "    print(\"Vowel\")\n",
    "elif char.isalpha():\n",
    "    print(\"Consonant\")\n",
    "elif char.isdigit():\n",
    "    print(\"Digit\")\n",
    "else:\n",
    "    print(\"Special character\")"
   ]
  },
  {
   "cell_type": "code",
   "execution_count": 9,
   "id": "8ac3ab9d-44cf-4ece-83f8-75edb40a39de",
   "metadata": {},
   "outputs": [
    {
     "name": "stdin",
     "output_type": "stream",
     "text": [
      "Enter the current day (e.g., Monday, Tuesday):  sunday\n"
     ]
    },
    {
     "name": "stdout",
     "output_type": "stream",
     "text": [
      "Enjoy your weekend!\n"
     ]
    }
   ],
   "source": [
    "#Q8\n",
    "\n",
    "day = input(\"Enter the current day (e.g., Monday, Tuesday): \")\n",
    "\n",
    "day = day.lower()\n",
    "\n",
    "if day == \"saturday\" or day == \"sunday\":\n",
    "    print(\"Enjoy your weekend!\")\n",
    "elif day == \"monday\" or day == \"tuesday\" or day == \"wednesday\" or day == \"thursday\" or day == \"friday\":\n",
    "    print(\"Time to work!\")\n",
    "else:\n",
    "    print(\"Invalid day entered.\")"
   ]
  },
  {
   "cell_type": "code",
   "execution_count": null,
   "id": "c36ead08-6405-4c51-ae8c-c831ddefe1e8",
   "metadata": {},
   "outputs": [
    {
     "name": "stdin",
     "output_type": "stream",
     "text": [
      "Enter your years of service:  67\n"
     ]
    }
   ],
   "source": [
    "#Q9\n",
    "\n",
    "years = int(input(\"Enter your years of service: \"))\n",
    "salary = float(input(\"Enter your current salary: \"))\n",
    "\n",
    "if years >= 10:\n",
    "    bonus = 0.20 * salary\n",
    "elif years >= 5:\n",
    "    bonus = 0.10 * salary\n",
    "else:\n",
    "    bonus = 0.05 * salary\n",
    "\n",
    "print(\"Your bonus amount is: $\", round(bonus, 2))"
   ]
  },
  {
   "cell_type": "code",
   "execution_count": 32,
   "id": "686cdd41-ba81-4367-aecb-940295f750f8",
   "metadata": {},
   "outputs": [
    {
     "name": "stdin",
     "output_type": "stream",
     "text": [
      "Enter a number:  59\n"
     ]
    },
    {
     "name": "stdout",
     "output_type": "stream",
     "text": [
      "The number is positive.\n",
      "It is odd.\n"
     ]
    }
   ],
   "source": [
    "#Q10\n",
    "\n",
    "num = int(input(\"Enter a number: \"))\n",
    "\n",
    "if num > 0:\n",
    "    print(\"The number is positive.\")\n",
    "    if num % 2 == 0:\n",
    "        print(\"It is even.\")\n",
    "    else:\n",
    "        print(\"It is odd.\")\n",
    "elif num < 0:\n",
    "    print(\"The number is negative.\")\n",
    "else:\n",
    "    print(\"The number is zero.\")"
   ]
  },
  {
   "cell_type": "code",
   "execution_count": null,
   "id": "6dcdc1db-5086-4b4c-becc-507573e56aa5",
   "metadata": {},
   "outputs": [],
   "source": []
  }
 ],
 "metadata": {
  "kernelspec": {
   "display_name": "Python 3 (ipykernel)",
   "language": "python",
   "name": "python3"
  },
  "language_info": {
   "codemirror_mode": {
    "name": "ipython",
    "version": 3
   },
   "file_extension": ".py",
   "mimetype": "text/x-python",
   "name": "python",
   "nbconvert_exporter": "python",
   "pygments_lexer": "ipython3",
   "version": "3.12.7"
  }
 },
 "nbformat": 4,
 "nbformat_minor": 5
}
